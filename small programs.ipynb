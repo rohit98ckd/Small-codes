{
 "cells": [
  {
   "cell_type": "markdown",
   "id": "21c301cf",
   "metadata": {},
   "source": [
    "### 1. Maximum of a list"
   ]
  },
  {
   "cell_type": "code",
   "execution_count": 3,
   "id": "7bfbf89f",
   "metadata": {},
   "outputs": [],
   "source": [
    "def max_num(list):\n",
    "    max= list[0]\n",
    "    for i in list:\n",
    "        if i > max:\n",
    "            max= i\n",
    "    return max"
   ]
  },
  {
   "cell_type": "code",
   "execution_count": 4,
   "id": "b7f6443d",
   "metadata": {},
   "outputs": [
    {
     "data": {
      "text/plain": [
       "33"
      ]
     },
     "execution_count": 4,
     "metadata": {},
     "output_type": "execute_result"
    }
   ],
   "source": [
    "max_num([1,-1,-3,5,8,33,6,8])"
   ]
  },
  {
   "cell_type": "markdown",
   "id": "f815d9f0",
   "metadata": {},
   "source": [
    "### 2. sorting of a number"
   ]
  },
  {
   "cell_type": "code",
   "execution_count": 108,
   "id": "316c7c7b",
   "metadata": {},
   "outputs": [],
   "source": [
    "def sort(list):\n",
    "    num = list\n",
    "    n = len(list)\n",
    "    for i in range(n):\n",
    "        for j in range(n-1):\n",
    "            if (num[i] < num[j]):\n",
    "                temp= num[i]\n",
    "                num[i]=num[j]\n",
    "                num[j]=temp\n",
    "    return num\n",
    "                "
   ]
  },
  {
   "cell_type": "code",
   "execution_count": 110,
   "id": "66c06adb",
   "metadata": {},
   "outputs": [
    {
     "data": {
      "text/plain": [
       "[2, 3, 3, 4, 7, 8, 9, 9, 10]"
      ]
     },
     "execution_count": 110,
     "metadata": {},
     "output_type": "execute_result"
    }
   ],
   "source": [
    "sort([3,7,9,2,3,4,8,9,10])"
   ]
  },
  {
   "cell_type": "markdown",
   "id": "c89fdc5b",
   "metadata": {},
   "source": [
    "### 3.  swaping two values"
   ]
  },
  {
   "cell_type": "code",
   "execution_count": 6,
   "id": "493c4de9",
   "metadata": {},
   "outputs": [],
   "source": [
    "def swap(a,b):\n",
    "    temp= a \n",
    "    a= b\n",
    "    b=temp\n",
    "    return a,b"
   ]
  },
  {
   "cell_type": "code",
   "execution_count": 7,
   "id": "afb6afaa",
   "metadata": {},
   "outputs": [
    {
     "data": {
      "text/plain": [
       "(2, 1)"
      ]
     },
     "execution_count": 7,
     "metadata": {},
     "output_type": "execute_result"
    }
   ],
   "source": [
    "swap(1,2)"
   ]
  },
  {
   "cell_type": "markdown",
   "id": "9345b18f",
   "metadata": {},
   "source": [
    "### 4.  Reversing the list"
   ]
  },
  {
   "cell_type": "code",
   "execution_count": 127,
   "id": "b8d56214",
   "metadata": {},
   "outputs": [],
   "source": [
    "def reverse_list(list):\n",
    "    l = list\n",
    "    rl=[]\n",
    "    for i in l:\n",
    "        rl=[i]+rl\n",
    "    return rl"
   ]
  },
  {
   "cell_type": "code",
   "execution_count": 128,
   "id": "3c0013da",
   "metadata": {},
   "outputs": [
    {
     "data": {
      "text/plain": [
       "[5, 4, 3, 2, 1]"
      ]
     },
     "execution_count": 128,
     "metadata": {},
     "output_type": "execute_result"
    }
   ],
   "source": [
    "reverse_list([1,2,3,4,5])"
   ]
  },
  {
   "cell_type": "code",
   "execution_count": 129,
   "id": "c9badceb",
   "metadata": {},
   "outputs": [],
   "source": [
    "def reverse_list(list):\n",
    "    l = list\n",
    "    n=len(l)\n",
    "    rl=l[::-1]\n",
    "        \n",
    "    return rl"
   ]
  },
  {
   "cell_type": "code",
   "execution_count": 11,
   "id": "c979473e",
   "metadata": {},
   "outputs": [
    {
     "data": {
      "text/plain": [
       "[5, 4, 3, 2, 1]"
      ]
     },
     "execution_count": 11,
     "metadata": {},
     "output_type": "execute_result"
    }
   ],
   "source": [
    "reverse_list([1,2,3,4,5])"
   ]
  },
  {
   "cell_type": "markdown",
   "id": "6b492827",
   "metadata": {},
   "source": [
    "### 5. Factorial of a number"
   ]
  },
  {
   "cell_type": "code",
   "execution_count": 1,
   "id": "014f9f94",
   "metadata": {},
   "outputs": [],
   "source": [
    "def factorial(num):\n",
    "    if num <= 1:\n",
    "        return 1\n",
    "    else:\n",
    "        return num * factorial(num-1)   # recursive function"
   ]
  },
  {
   "cell_type": "code",
   "execution_count": 2,
   "id": "5495c8ec",
   "metadata": {},
   "outputs": [
    {
     "data": {
      "text/plain": [
       "24"
      ]
     },
     "execution_count": 2,
     "metadata": {},
     "output_type": "execute_result"
    }
   ],
   "source": [
    "factorial(4)"
   ]
  },
  {
   "cell_type": "markdown",
   "id": "b9dd6494",
   "metadata": {},
   "source": [
    "### 6. percentage of plus minus and zero"
   ]
  },
  {
   "cell_type": "code",
   "execution_count": 135,
   "id": "2b7af300",
   "metadata": {},
   "outputs": [],
   "source": [
    "def plusMinus(arr):\n",
    "    l=arr\n",
    "    p=[]\n",
    "    n=[]\n",
    "    z=[]\n",
    "        \n",
    "    for i in l:\n",
    "        if i > 0:\n",
    "            p.append(i)\n",
    "        elif i < 0:\n",
    "            n.append(i)\n",
    "        else:\n",
    "            z.append(i)\n",
    "    print(len(p)/len(arr))\n",
    "    print(len(n)/len(arr))\n",
    "    print(len(z)/len(arr))"
   ]
  },
  {
   "cell_type": "code",
   "execution_count": 136,
   "id": "70df0f1c",
   "metadata": {},
   "outputs": [
    {
     "name": "stdout",
     "output_type": "stream",
     "text": [
      "0.5\n",
      "0.3333333333333333\n",
      "0.16666666666666666\n"
     ]
    }
   ],
   "source": [
    "plusMinus([-4 ,3, -9, 0, 4, 1])"
   ]
  },
  {
   "cell_type": "markdown",
   "id": "2a7e62f4",
   "metadata": {},
   "source": [
    "### 7. Printing max and min 4 numbers of the list"
   ]
  },
  {
   "cell_type": "code",
   "execution_count": 120,
   "id": "fa5c5dea",
   "metadata": {},
   "outputs": [],
   "source": [
    "def miniMaxSum(arr):\n",
    "    # Write your code here\n",
    "    l=arr\n",
    "    n=len(arr)\n",
    "    \n",
    "    for i in range(n):\n",
    "        for j in range(n-1):\n",
    "            if l[i] > l[j]:\n",
    "                temp=l[i]\n",
    "                l[i]=l[j]\n",
    "                l[j]=temp\n",
    "\n",
    "    maxsum=sum(l[:4])\n",
    "    minsum=sum(l[-4:])\n",
    "    print(maxsum)\n",
    "    print(minsum)\n",
    "    print(l)\n",
    "                  "
   ]
  },
  {
   "cell_type": "code",
   "execution_count": 121,
   "id": "bb81f27f",
   "metadata": {},
   "outputs": [],
   "source": [
    "a=[1,3,4,9,8,67,12,66]"
   ]
  },
  {
   "cell_type": "code",
   "execution_count": 124,
   "id": "352f20d6",
   "metadata": {},
   "outputs": [
    {
     "name": "stdout",
     "output_type": "stream",
     "text": [
      "154\n",
      "16\n",
      "[67, 66, 12, 9, 8, 4, 3, 1]\n"
     ]
    }
   ],
   "source": [
    "miniMaxSum(a)"
   ]
  },
  {
   "cell_type": "markdown",
   "id": "92e5005b",
   "metadata": {},
   "source": [
    "### 8. Python program to convert time from 12 hour to 24 hour format"
   ]
  },
  {
   "cell_type": "code",
   "execution_count": 117,
   "id": "a3f95d2b",
   "metadata": {},
   "outputs": [],
   "source": [
    "# Function to convert the date format\n",
    "def convert24(str1):\n",
    "     \n",
    "    # Checking if last two elements of time\n",
    "    # is AM and first two elements are 12\n",
    "    if str1[-2:] == \"AM\" and str1[:2] == \"12\":\n",
    "        return \"00\" + str1[2:-2]\n",
    "         \n",
    "    # remove the AM    \n",
    "    elif str1[-2:] == \"AM\":\n",
    "        return str1[:-2]\n",
    "     \n",
    "    # Checking if last two elements of time\n",
    "    # is PM and first two elements are 12\n",
    "    elif str1[-2:] == \"PM\" and str1[:2] == \"12\":\n",
    "        return str1[:-2]\n",
    "         \n",
    "    else:\n",
    "         \n",
    "        # add 12 to hours and remove PM\n",
    "        return str(int(str1[:2]) + 12) + str1[2:8]\n"
   ]
  },
  {
   "cell_type": "code",
   "execution_count": 118,
   "id": "0071090e",
   "metadata": {},
   "outputs": [
    {
     "data": {
      "text/plain": [
       "'20:05:45'"
      ]
     },
     "execution_count": 118,
     "metadata": {},
     "output_type": "execute_result"
    }
   ],
   "source": [
    "convert24(\"08:05:45 PM\")"
   ]
  },
  {
   "cell_type": "markdown",
   "id": "dd3c9e47",
   "metadata": {},
   "source": [
    "### 9. Lonely integer"
   ]
  },
  {
   "cell_type": "code",
   "execution_count": 114,
   "id": "650435ce",
   "metadata": {},
   "outputs": [],
   "source": [
    "def lonelyinteger(a):\n",
    "    for val in a:\n",
    "        if a.count(val) == 1:\n",
    "            result = val\n",
    "            return result\n",
    "        "
   ]
  },
  {
   "cell_type": "code",
   "execution_count": 115,
   "id": "5b3ed99b",
   "metadata": {},
   "outputs": [],
   "source": [
    "a=[1,1,2,3,3,4,4]"
   ]
  },
  {
   "cell_type": "code",
   "execution_count": 116,
   "id": "617329e1",
   "metadata": {},
   "outputs": [
    {
     "data": {
      "text/plain": [
       "2"
      ]
     },
     "execution_count": 116,
     "metadata": {},
     "output_type": "execute_result"
    }
   ],
   "source": [
    "lonelyinteger(a)"
   ]
  },
  {
   "cell_type": "markdown",
   "id": "11e49ac7",
   "metadata": {},
   "source": [
    "### 10. Diagonal Differance"
   ]
  },
  {
   "cell_type": "code",
   "execution_count": 95,
   "id": "234cbd62",
   "metadata": {},
   "outputs": [],
   "source": [
    "def diagonalDifference(arr):\n",
    "    # Write your code here\n",
    "    M=arr\n",
    "    m=n=len(M)\n",
    "    ld=[]\n",
    "    rd=[]\n",
    "    for i in range(m):\n",
    "        for j in range(n):\n",
    "            if i==j:\n",
    "                ld.append(M[i][j])\n",
    "    print(ld)\n",
    "    M=M[::-1]\n",
    "    for i in range(m):\n",
    "        for j in range(n):\n",
    "            if i==j:\n",
    "                rd.append(M[i][j])\n",
    "    print(rd)\n",
    "    \n",
    "    ld_sum=sum(ld)\n",
    "    rd_sum=sum(rd)\n",
    "    \n",
    "    print(ld_sum)\n",
    "    print(rd_sum)\n",
    "    \n",
    "    diff= ld_sum-rd_sum\n",
    "    ans=print(max(diff,-diff))"
   ]
  },
  {
   "cell_type": "code",
   "execution_count": 97,
   "id": "ddc6abbf",
   "metadata": {},
   "outputs": [
    {
     "name": "stdout",
     "output_type": "stream",
     "text": [
      "Enter the number of rows:3\n",
      "Enter the number of columns:3\n",
      "Enter the entries rowwise:\n",
      "4\n",
      "2\n",
      "8\n",
      "-2\n",
      "6\n",
      "8\n",
      "5\n",
      "3\n",
      "-3\n",
      "4 2 8 \n",
      "-2 6 8 \n",
      "5 3 -3 \n"
     ]
    }
   ],
   "source": [
    "\n",
    "# A basic code for matrix input from user\n",
    "  \n",
    "R = int(input(\"Enter the number of rows:\"))\n",
    "C = int(input(\"Enter the number of columns:\"))\n",
    "  \n",
    "# Initialize matrix\n",
    "matrix = []\n",
    "print(\"Enter the entries rowwise:\")\n",
    "  \n",
    "# For user input\n",
    "for i in range(R):          # A for loop for row entries\n",
    "    a =[]\n",
    "    for j in range(C):      # A for loop for column entries\n",
    "         a.append(int(input()))\n",
    "    matrix.append(a)\n",
    "  \n",
    "# For printing the matrix\n",
    "for i in range(R):\n",
    "    for j in range(C):\n",
    "        print(matrix[i][j], end = \" \")\n",
    "    print()"
   ]
  },
  {
   "cell_type": "code",
   "execution_count": 98,
   "id": "ba555125",
   "metadata": {},
   "outputs": [
    {
     "data": {
      "text/plain": [
       "[[4, 2, 8], [-2, 6, 8], [5, 3, -3]]"
      ]
     },
     "execution_count": 98,
     "metadata": {},
     "output_type": "execute_result"
    }
   ],
   "source": [
    "matrix"
   ]
  },
  {
   "cell_type": "code",
   "execution_count": 99,
   "id": "7242c19f",
   "metadata": {},
   "outputs": [
    {
     "name": "stdout",
     "output_type": "stream",
     "text": [
      "[4, 6, -3]\n",
      "[5, 6, 8]\n",
      "7\n",
      "19\n",
      "12\n"
     ]
    }
   ],
   "source": [
    "diagonalDifference(matrix)"
   ]
  },
  {
   "cell_type": "code",
   "execution_count": 78,
   "id": "0a3a4d94",
   "metadata": {},
   "outputs": [
    {
     "data": {
      "text/plain": [
       "[[7, 8, 9], [4, 5, 6], [1, 2, 3]]"
      ]
     },
     "execution_count": 78,
     "metadata": {},
     "output_type": "execute_result"
    }
   ],
   "source": [
    "matrix[::-1]"
   ]
  },
  {
   "cell_type": "code",
   "execution_count": null,
   "id": "c796b15b",
   "metadata": {},
   "outputs": [],
   "source": []
  },
  {
   "cell_type": "code",
   "execution_count": null,
   "id": "2ca275b8",
   "metadata": {},
   "outputs": [],
   "source": [
    "def weightage(s):\n",
    "    \n",
    "    \n",
    "    \n",
    "    \n",
    "    \n",
    "    \n",
    "if __name__ == '__main__':\n",
    "    fptr = open(os.environ['OUTPUT_PATH'], 'w')\n",
    "\n",
    "    s = input()\n",
    "\n",
    "    result = timeConversion(s)\n",
    "\n",
    "    fptr.write(result + '\\n')\n",
    "\n",
    "    fptr.close()\n"
   ]
  },
  {
   "cell_type": "code",
   "execution_count": 103,
   "id": "22665d71",
   "metadata": {},
   "outputs": [
    {
     "name": "stdout",
     "output_type": "stream",
     "text": [
      "2\n",
      "1\n",
      "2\n"
     ]
    },
    {
     "ename": "IndexError",
     "evalue": "list index out of range",
     "output_type": "error",
     "traceback": [
      "\u001b[1;31m---------------------------------------------------------------------------\u001b[0m",
      "\u001b[1;31mIndexError\u001b[0m                                Traceback (most recent call last)",
      "Input \u001b[1;32mIn [103]\u001b[0m, in \u001b[0;36m<cell line: 43>\u001b[1;34m()\u001b[0m\n\u001b[0;32m     50\u001b[0m \u001b[38;5;28;01mfor\u001b[39;00m _ \u001b[38;5;129;01min\u001b[39;00m \u001b[38;5;28mrange\u001b[39m(n):\n\u001b[0;32m     51\u001b[0m     arr\u001b[38;5;241m.\u001b[39mappend(\u001b[38;5;28mlist\u001b[39m(\u001b[38;5;28mmap\u001b[39m(\u001b[38;5;28mint\u001b[39m, \u001b[38;5;28minput\u001b[39m()\u001b[38;5;241m.\u001b[39mrstrip()\u001b[38;5;241m.\u001b[39msplit())))\n\u001b[1;32m---> 53\u001b[0m result \u001b[38;5;241m=\u001b[39m \u001b[43mdiagonalDifference\u001b[49m\u001b[43m(\u001b[49m\u001b[43marr\u001b[49m\u001b[43m)\u001b[49m\n\u001b[0;32m     55\u001b[0m fptr\u001b[38;5;241m.\u001b[39mwrite(\u001b[38;5;28mstr\u001b[39m(result) \u001b[38;5;241m+\u001b[39m \u001b[38;5;124m'\u001b[39m\u001b[38;5;130;01m\\n\u001b[39;00m\u001b[38;5;124m'\u001b[39m)\n\u001b[0;32m     57\u001b[0m fptr\u001b[38;5;241m.\u001b[39mclose()\n",
      "Input \u001b[1;32mIn [103]\u001b[0m, in \u001b[0;36mdiagonalDifference\u001b[1;34m(arr)\u001b[0m\n\u001b[0;32m     24\u001b[0m     \u001b[38;5;28;01mfor\u001b[39;00m j \u001b[38;5;129;01min\u001b[39;00m \u001b[38;5;28mrange\u001b[39m(n):\n\u001b[0;32m     25\u001b[0m         \u001b[38;5;28;01mif\u001b[39;00m i\u001b[38;5;241m==\u001b[39mj:\n\u001b[1;32m---> 26\u001b[0m             ld\u001b[38;5;241m.\u001b[39mappend(\u001b[43mM\u001b[49m\u001b[43m[\u001b[49m\u001b[43mi\u001b[49m\u001b[43m]\u001b[49m\u001b[43m[\u001b[49m\u001b[43mj\u001b[49m\u001b[43m]\u001b[49m)\n\u001b[0;32m     28\u001b[0m M\u001b[38;5;241m=\u001b[39mM[::\u001b[38;5;241m-\u001b[39m\u001b[38;5;241m1\u001b[39m]\n\u001b[0;32m     29\u001b[0m \u001b[38;5;28;01mfor\u001b[39;00m i \u001b[38;5;129;01min\u001b[39;00m \u001b[38;5;28mrange\u001b[39m(m):\n",
      "\u001b[1;31mIndexError\u001b[0m: list index out of range"
     ]
    }
   ],
   "source": [
    "#!/bin/python3\n",
    "\n",
    "import math\n",
    "import os\n",
    "import random\n",
    "import re\n",
    "import sys\n",
    "\n",
    "#\n",
    "# Complete the 'diagonalDifference' function below.\n",
    "#\n",
    "# The function is expected to return an INTEGER.\n",
    "# The function accepts 2D_INTEGER_ARRAY arr as parameter.\n",
    "#\n",
    "\n",
    "def diagonalDifference(arr):\n",
    "    # Write your code here\n",
    "   \n",
    "    M=arr\n",
    "    m=n=len(M)\n",
    "    ld=[]\n",
    "    rd=[]\n",
    "    for i in range(m):\n",
    "        for j in range(n):\n",
    "            if i==j:\n",
    "                ld.append(M[i][j])\n",
    "                \n",
    "    M=M[::-1]\n",
    "    for i in range(m):\n",
    "        for j in range(n):\n",
    "            if i==j:\n",
    "                rd.append(M[i][j])\n",
    "\n",
    "    \n",
    "    ld_sum=sum(ld)\n",
    "    rd_sum=sum(rd)\n",
    "    \n",
    "    \n",
    "    diff= ld_sum-rd_sum\n",
    "    print(max(diff,-diff))\n",
    "    \n",
    "    \n",
    "if __name__ == '__main__':\n",
    "\n",
    "\n",
    "    n = int(input().strip())\n",
    "\n",
    "    arr = []\n",
    "\n",
    "    for _ in range(n):\n",
    "        arr.append(list(map(int, input().rstrip().split())))\n",
    "\n",
    "    result = diagonalDifference(arr)\n",
    "\n",
    "    fptr.write(str(result) + '\\n')\n",
    "\n",
    "    fptr.close()\n"
   ]
  },
  {
   "cell_type": "markdown",
   "id": "d9d5358b",
   "metadata": {},
   "source": [
    "yash sisodiya14:33\n",
    "You are given an integer list coins representing coins of different denominations and an integer amount representing a total amount of money.\n",
    "Return the fewest number of coins that you need to make up that amount. If that amount of money cannot be made up by any combination of the coins, return {}.\n",
    "You may assume that you have an infinite number of each kind of coin.\n",
    "Example 1:\n",
    " Input: coins = [1, 5, 6, 9, 15], amount = 31\n",
    " Output: {15:2, 1:1}\n",
    "Example 2:\n",
    " Input: coins = [1, 5, 6, 9, 15], amount = 100\n",
    " Output: {15:6, 9:1, 1:1}"
   ]
  },
  {
   "cell_type": "markdown",
   "id": "b353e602",
   "metadata": {},
   "source": []
  }
 ],
 "metadata": {
  "kernelspec": {
   "display_name": "Python 3 (ipykernel)",
   "language": "python",
   "name": "python3"
  },
  "language_info": {
   "codemirror_mode": {
    "name": "ipython",
    "version": 3
   },
   "file_extension": ".py",
   "mimetype": "text/x-python",
   "name": "python",
   "nbconvert_exporter": "python",
   "pygments_lexer": "ipython3",
   "version": "3.9.12"
  }
 },
 "nbformat": 4,
 "nbformat_minor": 5
}
