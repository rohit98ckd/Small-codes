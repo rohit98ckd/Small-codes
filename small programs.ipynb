{
 "cells": [
  {
   "cell_type": "markdown",
   "id": "21c301cf",
   "metadata": {},
   "source": [
    "### 1. Maximum of a list"
   ]
  },
  {
   "cell_type": "code",
   "execution_count": 3,
   "id": "7bfbf89f",
   "metadata": {},
   "outputs": [],
   "source": [
    "def max_num(list):\n",
    "    max= list[0]\n",
    "    for i in list:\n",
    "        if i > max:\n",
    "            max= i\n",
    "    return max"
   ]
  },
  {
   "cell_type": "code",
   "execution_count": 4,
   "id": "b7f6443d",
   "metadata": {},
   "outputs": [
    {
     "data": {
      "text/plain": [
       "33"
      ]
     },
     "execution_count": 4,
     "metadata": {},
     "output_type": "execute_result"
    }
   ],
   "source": [
    "max_num([1,-1,-3,5,8,33,6,8])"
   ]
  },
  {
   "cell_type": "markdown",
   "id": "f815d9f0",
   "metadata": {},
   "source": [
    "### 2. sorting of a number"
   ]
  },
  {
   "cell_type": "code",
   "execution_count": 108,
   "id": "316c7c7b",
   "metadata": {},
   "outputs": [],
   "source": [
    "def sort(list):\n",
    "    num = list\n",
    "    n = len(list)\n",
    "    for i in range(n):\n",
    "        for j in range(n-1):\n",
    "            if (num[i] < num[j]):\n",
    "                temp= num[i]\n",
    "                num[i]=num[j]\n",
    "                num[j]=temp\n",
    "    return num\n",
    "                "
   ]
  },
  {
   "cell_type": "code",
   "execution_count": 110,
   "id": "66c06adb",
   "metadata": {},
   "outputs": [
    {
     "data": {
      "text/plain": [
       "[2, 3, 3, 4, 7, 8, 9, 9, 10]"
      ]
     },
     "execution_count": 110,
     "metadata": {},
     "output_type": "execute_result"
    }
   ],
   "source": [
    "sort([3,7,9,2,3,4,8,9,10])"
   ]
  },
  {
   "cell_type": "markdown",
   "id": "c89fdc5b",
   "metadata": {},
   "source": [
    "### 3.  swaping two values"
   ]
  },
  {
   "cell_type": "code",
   "execution_count": 6,
   "id": "493c4de9",
   "metadata": {},
   "outputs": [],
   "source": [
    "def swap(a,b):\n",
    "    temp= a \n",
    "    a= b\n",
    "    b=temp\n",
    "    return a,b"
   ]
  },
  {
   "cell_type": "code",
   "execution_count": 7,
   "id": "afb6afaa",
   "metadata": {},
   "outputs": [
    {
     "data": {
      "text/plain": [
       "(2, 1)"
      ]
     },
     "execution_count": 7,
     "metadata": {},
     "output_type": "execute_result"
    }
   ],
   "source": [
    "swap(1,2)"
   ]
  },
  {
   "cell_type": "markdown",
   "id": "9345b18f",
   "metadata": {},
   "source": [
    "### 4.  Reversing the list"
   ]
  },
  {
   "cell_type": "code",
   "execution_count": 127,
   "id": "b8d56214",
   "metadata": {},
   "outputs": [],
   "source": [
    "def reverse_list(list):\n",
    "    l = list\n",
    "    rl=[]\n",
    "    for i in l:\n",
    "        rl=[i]+rl\n",
    "    return rl"
   ]
  },
  {
   "cell_type": "code",
   "execution_count": 128,
   "id": "3c0013da",
   "metadata": {},
   "outputs": [
    {
     "data": {
      "text/plain": [
       "[5, 4, 3, 2, 1]"
      ]
     },
     "execution_count": 128,
     "metadata": {},
     "output_type": "execute_result"
    }
   ],
   "source": [
    "reverse_list([1,2,3,4,5])"
   ]
  },
  {
   "cell_type": "code",
   "execution_count": 129,
   "id": "c9badceb",
   "metadata": {},
   "outputs": [],
   "source": [
    "def reverse_list(list):\n",
    "    l = list\n",
    "    n=len(l)\n",
    "    rl=l[::-1]\n",
    "        \n",
    "    return rl"
   ]
  },
  {
   "cell_type": "code",
   "execution_count": 11,
   "id": "c979473e",
   "metadata": {},
   "outputs": [
    {
     "data": {
      "text/plain": [
       "[5, 4, 3, 2, 1]"
      ]
     },
     "execution_count": 11,
     "metadata": {},
     "output_type": "execute_result"
    }
   ],
   "source": [
    "reverse_list([1,2,3,4,5])"
   ]
  },
  {
   "cell_type": "markdown",
   "id": "6b492827",
   "metadata": {},
   "source": [
    "### 5. Factorial of a number"
   ]
  },
  {
   "cell_type": "code",
   "execution_count": 1,
   "id": "014f9f94",
   "metadata": {},
   "outputs": [],
   "source": [
    "def factorial(num):\n",
    "    if num <= 1:\n",
    "        return 1\n",
    "    else:\n",
    "        return num * factorial(num-1)   # recursive function"
   ]
  },
  {
   "cell_type": "code",
   "execution_count": 2,
   "id": "5495c8ec",
   "metadata": {},
   "outputs": [
    {
     "data": {
      "text/plain": [
       "24"
      ]
     },
     "execution_count": 2,
     "metadata": {},
     "output_type": "execute_result"
    }
   ],
   "source": [
    "factorial(4)"
   ]
  },
  {
   "cell_type": "markdown",
   "id": "f710a6f7",
   "metadata": {},
   "source": [
    "### 6. percentage of plus minus and zero"
   ]
  },
  {
   "cell_type": "code",
   "execution_count": 135,
   "id": "2b7af300",
   "metadata": {},
   "outputs": [],
   "source": [
    "def plusMinus(arr):\n",
    "    l=arr\n",
    "    p=[]\n",
    "    n=[]\n",
    "    z=[]\n",
    "        \n",
    "    for i in l:\n",
    "        if i > 0:\n",
    "            p.append(i)\n",
    "        elif i < 0:\n",
    "            n.append(i)\n",
    "        else:\n",
    "            z.append(i)\n",
    "    print(len(p)/len(arr))\n",
    "    print(len(n)/len(arr))\n",
    "    print(len(z)/len(arr))"
   ]
  },
  {
   "cell_type": "code",
   "execution_count": 136,
   "id": "70df0f1c",
   "metadata": {},
   "outputs": [
    {
     "name": "stdout",
     "output_type": "stream",
     "text": [
      "0.5\n",
      "0.3333333333333333\n",
      "0.16666666666666666\n"
     ]
    }
   ],
   "source": [
    "plusMinus([-4 ,3, -9, 0, 4, 1])"
   ]
  },
  {
   "cell_type": "markdown",
   "id": "358b59be",
   "metadata": {},
   "source": [
    "### 7. Printing max and min 4 numbers of the list"
   ]
  },
  {
   "cell_type": "code",
   "execution_count": 120,
   "id": "302c647f",
   "metadata": {},
   "outputs": [],
   "source": [
    "def miniMaxSum(arr):\n",
    "    # Write your code here\n",
    "    l=arr\n",
    "    n=len(arr)\n",
    "    \n",
    "    for i in range(n):\n",
    "        for j in range(n-1):\n",
    "            if l[i] > l[j]:\n",
    "                temp=l[i]\n",
    "                l[i]=l[j]\n",
    "                l[j]=temp\n",
    "\n",
    "    maxsum=sum(l[:4])\n",
    "    minsum=sum(l[-4:])\n",
    "    print(maxsum)\n",
    "    print(minsum)\n",
    "    print(l)\n",
    "                  "
   ]
  },
  {
   "cell_type": "code",
   "execution_count": 121,
   "id": "02ffa6b2",
   "metadata": {},
   "outputs": [],
   "source": [
    "a=[1,3,4,9,8,67,12,66]"
   ]
  },
  {
   "cell_type": "code",
   "execution_count": 124,
   "id": "4009c8d5",
   "metadata": {},
   "outputs": [
    {
     "name": "stdout",
     "output_type": "stream",
     "text": [
      "154\n",
      "16\n",
      "[67, 66, 12, 9, 8, 4, 3, 1]\n"
     ]
    }
   ],
   "source": [
    "miniMaxSum(a)"
   ]
  },
  {
   "cell_type": "markdown",
   "id": "1622ddae",
   "metadata": {},
   "source": [
    "### 8. Python program to convert time from 12 hour to 24 hour format"
   ]
  },
  {
   "cell_type": "code",
   "execution_count": 117,
   "id": "a2e008fc",
   "metadata": {},
   "outputs": [],
   "source": [
    "# Function to convert the date format\n",
    "def convert24(str1):\n",
    "     \n",
    "    # Checking if last two elements of time\n",
    "    # is AM and first two elements are 12\n",
    "    if str1[-2:] == \"AM\" and str1[:2] == \"12\":\n",
    "        return \"00\" + str1[2:-2]\n",
    "         \n",
    "    # remove the AM    \n",
    "    elif str1[-2:] == \"AM\":\n",
    "        return str1[:-2]\n",
    "     \n",
    "    # Checking if last two elements of time\n",
    "    # is PM and first two elements are 12\n",
    "    elif str1[-2:] == \"PM\" and str1[:2] == \"12\":\n",
    "        return str1[:-2]\n",
    "         \n",
    "    else:\n",
    "         \n",
    "        # add 12 to hours and remove PM\n",
    "        return str(int(str1[:2]) + 12) + str1[2:8]\n"
   ]
  },
  {
   "cell_type": "code",
   "execution_count": 118,
   "id": "439a501f",
   "metadata": {},
   "outputs": [
    {
     "data": {
      "text/plain": [
       "'20:05:45'"
      ]
     },
     "execution_count": 118,
     "metadata": {},
     "output_type": "execute_result"
    }
   ],
   "source": [
    "convert24(\"08:05:45 PM\")"
   ]
  },
  {
   "cell_type": "markdown",
   "id": "20dbe647",
   "metadata": {},
   "source": [
    "### 9. Lonely integer"
   ]
  },
  {
   "cell_type": "code",
   "execution_count": 114,
   "id": "a5f501ea",
   "metadata": {},
   "outputs": [],
   "source": [
    "def lonelyinteger(a):\n",
    "    for val in a:\n",
    "        if a.count(val) == 1:\n",
    "            result = val\n",
    "            return result\n",
    "        "
   ]
  },
  {
   "cell_type": "code",
   "execution_count": 115,
   "id": "9db0b305",
   "metadata": {},
   "outputs": [],
   "source": [
    "a=[1,1,2,3,3,4,4]"
   ]
  },
  {
   "cell_type": "code",
   "execution_count": 116,
   "id": "467151dd",
   "metadata": {},
   "outputs": [
    {
     "data": {
      "text/plain": [
       "2"
      ]
     },
     "execution_count": 116,
     "metadata": {},
     "output_type": "execute_result"
    }
   ],
   "source": [
    "lonelyinteger(a)"
   ]
  },
  {
   "cell_type": "code",
   "execution_count": null,
   "id": "764cb96d",
   "metadata": {},
   "outputs": [],
   "source": []
  },
  {
   "cell_type": "code",
   "execution_count": null,
   "id": "69e9e14d",
   "metadata": {},
   "outputs": [],
   "source": [
    "def weightage(s):\n",
    "    \n",
    "    \n",
    "    \n",
    "    \n",
    "    \n",
    "    \n",
    "    \n",
    "    \n",
    "    \n",
    "if __name__ == '__main__':\n",
    "    fptr = open(os.environ['OUTPUT_PATH'], 'w')\n",
    "\n",
    "    s = input()\n",
    "\n",
    "    result = timeConversion(s)\n",
    "\n",
    "    fptr.write(result + '\\n')\n",
    "\n",
    "    fptr.close()\n"
   ]
  },
  {
   "cell_type": "code",
   "execution_count": 89,
   "id": "4d1b52d1",
   "metadata": {},
   "outputs": [],
   "source": [
    "s=\"rohit\""
   ]
  },
  {
   "cell_type": "code",
   "execution_count": 90,
   "id": "bf71350a",
   "metadata": {},
   "outputs": [],
   "source": [
    "s=\"abcdefghijklmnopqrstuvwxyz\""
   ]
  },
  {
   "cell_type": "code",
   "execution_count": 91,
   "id": "97fd6b1a",
   "metadata": {},
   "outputs": [
    {
     "name": "stdout",
     "output_type": "stream",
     "text": [
      "[1, 'b', 'c', 'd', 'e', 'f', 'g', 'h', 'i', 'j', 'k', 'l', 'm', 'n', 'o', 'p', 'q', 'r', 's', 't', 'u', 'v', 'w', 'x', 'y', 'z']\n",
      "['a', 2, 'c', 'd', 'e', 'f', 'g', 'h', 'i', 'j', 'k', 'l', 'm', 'n', 'o', 'p', 'q', 'r', 's', 't', 'u', 'v', 'w', 'x', 'y', 'z']\n",
      "['a', 'b', 3, 'd', 'e', 'f', 'g', 'h', 'i', 'j', 'k', 'l', 'm', 'n', 'o', 'p', 'q', 'r', 's', 't', 'u', 'v', 'w', 'x', 'y', 'z']\n",
      "['a', 'b', 'c', 4, 'e', 'f', 'g', 'h', 'i', 'j', 'k', 'l', 'm', 'n', 'o', 'p', 'q', 'r', 's', 't', 'u', 'v', 'w', 'x', 'y', 'z']\n",
      "['a', 'b', 'c', 'd', 5, 'f', 'g', 'h', 'i', 'j', 'k', 'l', 'm', 'n', 'o', 'p', 'q', 'r', 's', 't', 'u', 'v', 'w', 'x', 'y', 'z']\n",
      "['a', 'b', 'c', 'd', 'e', 6, 'g', 'h', 'i', 'j', 'k', 'l', 'm', 'n', 'o', 'p', 'q', 'r', 's', 't', 'u', 'v', 'w', 'x', 'y', 'z']\n",
      "['a', 'b', 'c', 'd', 'e', 'f', 7, 'h', 'i', 'j', 'k', 'l', 'm', 'n', 'o', 'p', 'q', 'r', 's', 't', 'u', 'v', 'w', 'x', 'y', 'z']\n",
      "['a', 'b', 'c', 'd', 'e', 'f', 'g', 8, 'i', 'j', 'k', 'l', 'm', 'n', 'o', 'p', 'q', 'r', 's', 't', 'u', 'v', 'w', 'x', 'y', 'z']\n",
      "['a', 'b', 'c', 'd', 'e', 'f', 'g', 'h', 9, 'j', 'k', 'l', 'm', 'n', 'o', 'p', 'q', 'r', 's', 't', 'u', 'v', 'w', 'x', 'y', 'z']\n",
      "['a', 'b', 'c', 'd', 'e', 'f', 'g', 'h', 'i', 10, 'k', 'l', 'm', 'n', 'o', 'p', 'q', 'r', 's', 't', 'u', 'v', 'w', 'x', 'y', 'z']\n",
      "['a', 'b', 'c', 'd', 'e', 'f', 'g', 'h', 'i', 'j', 11, 'l', 'm', 'n', 'o', 'p', 'q', 'r', 's', 't', 'u', 'v', 'w', 'x', 'y', 'z']\n",
      "['a', 'b', 'c', 'd', 'e', 'f', 'g', 'h', 'i', 'j', 'k', 12, 'm', 'n', 'o', 'p', 'q', 'r', 's', 't', 'u', 'v', 'w', 'x', 'y', 'z']\n",
      "['a', 'b', 'c', 'd', 'e', 'f', 'g', 'h', 'i', 'j', 'k', 'l', 13, 'n', 'o', 'p', 'q', 'r', 's', 't', 'u', 'v', 'w', 'x', 'y', 'z']\n",
      "['a', 'b', 'c', 'd', 'e', 'f', 'g', 'h', 'i', 'j', 'k', 'l', 'm', 14, 'o', 'p', 'q', 'r', 's', 't', 'u', 'v', 'w', 'x', 'y', 'z']\n",
      "['a', 'b', 'c', 'd', 'e', 'f', 'g', 'h', 'i', 'j', 'k', 'l', 'm', 'n', 15, 'p', 'q', 'r', 's', 't', 'u', 'v', 'w', 'x', 'y', 'z']\n",
      "['a', 'b', 'c', 'd', 'e', 'f', 'g', 'h', 'i', 'j', 'k', 'l', 'm', 'n', 'o', 16, 'q', 'r', 's', 't', 'u', 'v', 'w', 'x', 'y', 'z']\n",
      "['a', 'b', 'c', 'd', 'e', 'f', 'g', 'h', 'i', 'j', 'k', 'l', 'm', 'n', 'o', 'p', 17, 'r', 's', 't', 'u', 'v', 'w', 'x', 'y', 'z']\n",
      "['a', 'b', 'c', 'd', 'e', 'f', 'g', 'h', 'i', 'j', 'k', 'l', 'm', 'n', 'o', 'p', 'q', 18, 's', 't', 'u', 'v', 'w', 'x', 'y', 'z']\n",
      "['a', 'b', 'c', 'd', 'e', 'f', 'g', 'h', 'i', 'j', 'k', 'l', 'm', 'n', 'o', 'p', 'q', 'r', 19, 't', 'u', 'v', 'w', 'x', 'y', 'z']\n",
      "['a', 'b', 'c', 'd', 'e', 'f', 'g', 'h', 'i', 'j', 'k', 'l', 'm', 'n', 'o', 'p', 'q', 'r', 's', 20, 'u', 'v', 'w', 'x', 'y', 'z']\n",
      "['a', 'b', 'c', 'd', 'e', 'f', 'g', 'h', 'i', 'j', 'k', 'l', 'm', 'n', 'o', 'p', 'q', 'r', 's', 't', 21, 'v', 'w', 'x', 'y', 'z']\n",
      "['a', 'b', 'c', 'd', 'e', 'f', 'g', 'h', 'i', 'j', 'k', 'l', 'm', 'n', 'o', 'p', 'q', 'r', 's', 't', 'u', 22, 'w', 'x', 'y', 'z']\n",
      "['a', 'b', 'c', 'd', 'e', 'f', 'g', 'h', 'i', 'j', 'k', 'l', 'm', 'n', 'o', 'p', 'q', 'r', 's', 't', 'u', 'v', 23, 'x', 'y', 'z']\n",
      "['a', 'b', 'c', 'd', 'e', 'f', 'g', 'h', 'i', 'j', 'k', 'l', 'm', 'n', 'o', 'p', 'q', 'r', 's', 't', 'u', 'v', 'w', 24, 'y', 'z']\n",
      "['a', 'b', 'c', 'd', 'e', 'f', 'g', 'h', 'i', 'j', 'k', 'l', 'm', 'n', 'o', 'p', 'q', 'r', 's', 't', 'u', 'v', 'w', 'x', 25, 'z']\n",
      "['a', 'b', 'c', 'd', 'e', 'f', 'g', 'h', 'i', 'j', 'k', 'l', 'm', 'n', 'o', 'p', 'q', 'r', 's', 't', 'u', 'v', 'w', 'x', 'y', 26]\n"
     ]
    }
   ],
   "source": [
    "for i in range(len(s)):\n",
    "    n=[]\n",
    "    sl=list(s)\n",
    "    sl[i]=i+1\n",
    "    print(sl)"
   ]
  },
  {
   "cell_type": "code",
   "execution_count": null,
   "id": "cd07a88b",
   "metadata": {},
   "outputs": [],
   "source": []
  },
  {
   "cell_type": "code",
   "execution_count": null,
   "id": "25404af3",
   "metadata": {},
   "outputs": [],
   "source": [
    "def flippingBits(n):\n",
    "    # Write your code here\n",
    "    b=bin(n)\n"
   ]
  },
  {
   "cell_type": "code",
   "execution_count": 145,
   "id": "c8881e34",
   "metadata": {},
   "outputs": [
    {
     "data": {
      "text/plain": [
       "'0b1001'"
      ]
     },
     "execution_count": 145,
     "metadata": {},
     "output_type": "execute_result"
    }
   ],
   "source": [
    "n=9\n",
    "bin(9)"
   ]
  },
  {
   "cell_type": "code",
   "execution_count": null,
   "id": "fb3e1a00",
   "metadata": {},
   "outputs": [],
   "source": []
  }
 ],
 "metadata": {
  "kernelspec": {
   "display_name": "Python 3 (ipykernel)",
   "language": "python",
   "name": "python3"
  },
  "language_info": {
   "codemirror_mode": {
    "name": "ipython",
    "version": 3
   },
   "file_extension": ".py",
   "mimetype": "text/x-python",
   "name": "python",
   "nbconvert_exporter": "python",
   "pygments_lexer": "ipython3",
   "version": "3.9.12"
  }
 },
 "nbformat": 4,
 "nbformat_minor": 5
}
