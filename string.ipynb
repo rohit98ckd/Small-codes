{
 "cells": [
  {
   "cell_type": "code",
   "execution_count": 4,
   "id": "8d03d735",
   "metadata": {},
   "outputs": [],
   "source": [
    "name = \"Rohit Raju Kamble\""
   ]
  },
  {
   "cell_type": "code",
   "execution_count": 5,
   "id": "fa668cda",
   "metadata": {},
   "outputs": [
    {
     "data": {
      "text/plain": [
       "'Rohit raju kamble'"
      ]
     },
     "execution_count": 5,
     "metadata": {},
     "output_type": "execute_result"
    }
   ],
   "source": [
    "name.capitalize()"
   ]
  },
  {
   "cell_type": "code",
   "execution_count": 14,
   "id": "39e9c0b5",
   "metadata": {},
   "outputs": [
    {
     "data": {
      "text/plain": [
       "'R o h i t   R a j u   K a m b l e'"
      ]
     },
     "execution_count": 14,
     "metadata": {},
     "output_type": "execute_result"
    }
   ],
   "source": [
    "\" \".join(name)"
   ]
  },
  {
   "cell_type": "code",
   "execution_count": 22,
   "id": "5485e0fa",
   "metadata": {},
   "outputs": [
    {
     "data": {
      "text/plain": [
       "['Rohit', 'Raju', 'Kamble']"
      ]
     },
     "execution_count": 22,
     "metadata": {},
     "output_type": "execute_result"
    }
   ],
   "source": [
    "name.split(\" \")"
   ]
  },
  {
   "cell_type": "code",
   "execution_count": 23,
   "id": "e6087962",
   "metadata": {},
   "outputs": [
    {
     "data": {
      "text/plain": [
       "['Kamble', 'Raju', 'Rohit']"
      ]
     },
     "execution_count": 23,
     "metadata": {},
     "output_type": "execute_result"
    }
   ],
   "source": [
    "name.split(\" \")[::-1]"
   ]
  },
  {
   "cell_type": "code",
   "execution_count": 25,
   "id": "cb389421",
   "metadata": {},
   "outputs": [
    {
     "data": {
      "text/plain": [
       "'Rohit'"
      ]
     },
     "execution_count": 25,
     "metadata": {},
     "output_type": "execute_result"
    }
   ],
   "source": [
    "name.split(\" \")[::-1][2]"
   ]
  },
  {
   "cell_type": "code",
   "execution_count": 9,
   "id": "b377cb39",
   "metadata": {},
   "outputs": [
    {
     "data": {
      "text/plain": [
       "<reversed at 0x2ca202c4a90>"
      ]
     },
     "execution_count": 9,
     "metadata": {},
     "output_type": "execute_result"
    }
   ],
   "source": [
    "reversed(name)"
   ]
  },
  {
   "cell_type": "code",
   "execution_count": 10,
   "id": "3c1ecadf",
   "metadata": {},
   "outputs": [
    {
     "data": {
      "text/plain": [
       "'e l b m a K   u j a R   t i h o R'"
      ]
     },
     "execution_count": 10,
     "metadata": {},
     "output_type": "execute_result"
    }
   ],
   "source": [
    "\" \".join(reversed(name))"
   ]
  },
  {
   "cell_type": "code",
   "execution_count": 26,
   "id": "1bc958cc",
   "metadata": {},
   "outputs": [
    {
     "data": {
      "text/plain": [
       "['R',\n",
       " 'o',\n",
       " 'h',\n",
       " 'i',\n",
       " 't',\n",
       " ' ',\n",
       " 'R',\n",
       " 'a',\n",
       " 'j',\n",
       " 'u',\n",
       " ' ',\n",
       " 'K',\n",
       " 'a',\n",
       " 'm',\n",
       " 'b',\n",
       " 'l',\n",
       " 'e']"
      ]
     },
     "execution_count": 26,
     "metadata": {},
     "output_type": "execute_result"
    }
   ],
   "source": [
    "list(name)"
   ]
  },
  {
   "cell_type": "code",
   "execution_count": 27,
   "id": "c92b67ca",
   "metadata": {},
   "outputs": [
    {
     "data": {
      "text/plain": [
       "['e',\n",
       " 'l',\n",
       " 'b',\n",
       " 'm',\n",
       " 'a',\n",
       " 'K',\n",
       " ' ',\n",
       " 'u',\n",
       " 'j',\n",
       " 'a',\n",
       " 'R',\n",
       " ' ',\n",
       " 't',\n",
       " 'i',\n",
       " 'h',\n",
       " 'o',\n",
       " 'R']"
      ]
     },
     "execution_count": 27,
     "metadata": {},
     "output_type": "execute_result"
    }
   ],
   "source": [
    "list(reversed(name))"
   ]
  },
  {
   "cell_type": "code",
   "execution_count": 30,
   "id": "822ac774",
   "metadata": {},
   "outputs": [
    {
     "data": {
      "text/plain": [
       "'R * o * h * i * t *   * R * a * j * u *   * K * a * m * b * l * e'"
      ]
     },
     "execution_count": 30,
     "metadata": {},
     "output_type": "execute_result"
    }
   ],
   "source": [
    "\" * \".join(name)"
   ]
  },
  {
   "cell_type": "code",
   "execution_count": 31,
   "id": "7d213ae7",
   "metadata": {},
   "outputs": [
    {
     "data": {
      "text/plain": [
       "'Rohit Raju Kamble'"
      ]
     },
     "execution_count": 31,
     "metadata": {},
     "output_type": "execute_result"
    }
   ],
   "source": [
    "#Return a copy of the string with leading and trailing whitespace removed.\n",
    "name.strip()"
   ]
  },
  {
   "cell_type": "code",
   "execution_count": 32,
   "id": "46276b9d",
   "metadata": {},
   "outputs": [],
   "source": [
    "a =\"jadnfjndlk  \""
   ]
  },
  {
   "cell_type": "code",
   "execution_count": 33,
   "id": "3e369775",
   "metadata": {},
   "outputs": [
    {
     "data": {
      "text/plain": [
       "'jadnfjndlk  '"
      ]
     },
     "execution_count": 33,
     "metadata": {},
     "output_type": "execute_result"
    }
   ],
   "source": [
    "a"
   ]
  },
  {
   "cell_type": "code",
   "execution_count": 34,
   "id": "6df5e503",
   "metadata": {},
   "outputs": [
    {
     "data": {
      "text/plain": [
       "'jadnfjndlk'"
      ]
     },
     "execution_count": 34,
     "metadata": {},
     "output_type": "execute_result"
    }
   ],
   "source": [
    "a.strip()"
   ]
  },
  {
   "cell_type": "code",
   "execution_count": 39,
   "id": "505a512b",
   "metadata": {},
   "outputs": [],
   "source": [
    "b= \"Good Morning Bangalore\""
   ]
  },
  {
   "cell_type": "code",
   "execution_count": 40,
   "id": "28522534",
   "metadata": {},
   "outputs": [
    {
     "data": {
      "text/plain": [
       "'Good Morning Karnataka'"
      ]
     },
     "execution_count": 40,
     "metadata": {},
     "output_type": "execute_result"
    }
   ],
   "source": [
    "b.replace(\"Bangalore\",\"Karnataka\")"
   ]
  },
  {
   "cell_type": "code",
   "execution_count": 43,
   "id": "51fcc234",
   "metadata": {},
   "outputs": [
    {
     "data": {
      "text/plain": [
       "'G  d Morning Bangalore'"
      ]
     },
     "execution_count": 43,
     "metadata": {},
     "output_type": "execute_result"
    }
   ],
   "source": [
    "b.replace(\"oo\",\"  \")"
   ]
  },
  {
   "cell_type": "code",
   "execution_count": 44,
   "id": "ff0b4a51",
   "metadata": {},
   "outputs": [
    {
     "data": {
      "text/plain": [
       "'hello world'"
      ]
     },
     "execution_count": 44,
     "metadata": {},
     "output_type": "execute_result"
    }
   ],
   "source": [
    "\"hello world\""
   ]
  },
  {
   "cell_type": "code",
   "execution_count": 46,
   "id": "d60b1edd",
   "metadata": {},
   "outputs": [
    {
     "data": {
      "text/plain": [
       "'hello   world'"
      ]
     },
     "execution_count": 46,
     "metadata": {},
     "output_type": "execute_result"
    }
   ],
   "source": [
    "\"hello \\tworld\".expandtabs()"
   ]
  },
  {
   "cell_type": "code",
   "execution_count": 47,
   "id": "bb55d1f2",
   "metadata": {},
   "outputs": [
    {
     "data": {
      "text/plain": [
       "'Rohit Raju Kamble'"
      ]
     },
     "execution_count": 47,
     "metadata": {},
     "output_type": "execute_result"
    }
   ],
   "source": [
    "name"
   ]
  },
  {
   "cell_type": "code",
   "execution_count": 49,
   "id": "ea1458dc",
   "metadata": {},
   "outputs": [
    {
     "data": {
      "text/plain": [
       "False"
      ]
     },
     "execution_count": 49,
     "metadata": {},
     "output_type": "execute_result"
    }
   ],
   "source": [
    "name.islower()"
   ]
  },
  {
   "cell_type": "code",
   "execution_count": 50,
   "id": "cf8b06bb",
   "metadata": {},
   "outputs": [
    {
     "data": {
      "text/plain": [
       "False"
      ]
     },
     "execution_count": 50,
     "metadata": {},
     "output_type": "execute_result"
    }
   ],
   "source": [
    "name.isupper()"
   ]
  },
  {
   "cell_type": "code",
   "execution_count": 51,
   "id": "f17bfcf8",
   "metadata": {},
   "outputs": [
    {
     "data": {
      "text/plain": [
       "False"
      ]
     },
     "execution_count": 51,
     "metadata": {},
     "output_type": "execute_result"
    }
   ],
   "source": [
    "\"\".isspace()"
   ]
  },
  {
   "cell_type": "code",
   "execution_count": 52,
   "id": "c817a6fe",
   "metadata": {},
   "outputs": [
    {
     "data": {
      "text/plain": [
       "True"
      ]
     },
     "execution_count": 52,
     "metadata": {},
     "output_type": "execute_result"
    }
   ],
   "source": [
    "\" \".isspace()"
   ]
  },
  {
   "cell_type": "code",
   "execution_count": 53,
   "id": "e54de33e",
   "metadata": {},
   "outputs": [
    {
     "data": {
      "text/plain": [
       "True"
      ]
     },
     "execution_count": 53,
     "metadata": {},
     "output_type": "execute_result"
    }
   ],
   "source": [
    "name.endswith(\"e\")"
   ]
  },
  {
   "cell_type": "code",
   "execution_count": 54,
   "id": "ff9eaecf",
   "metadata": {},
   "outputs": [
    {
     "data": {
      "text/plain": [
       "False"
      ]
     },
     "execution_count": 54,
     "metadata": {},
     "output_type": "execute_result"
    }
   ],
   "source": [
    "name.endswith(\"t\")"
   ]
  },
  {
   "cell_type": "code",
   "execution_count": 56,
   "id": "e99a316a",
   "metadata": {},
   "outputs": [
    {
     "data": {
      "text/plain": [
       "True"
      ]
     },
     "execution_count": 56,
     "metadata": {},
     "output_type": "execute_result"
    }
   ],
   "source": [
    "name.split(\" \")[0].endswith(\"t\")"
   ]
  },
  {
   "cell_type": "code",
   "execution_count": 57,
   "id": "8f224d0d",
   "metadata": {},
   "outputs": [],
   "source": [
    "x= \"jndf7457932d\""
   ]
  },
  {
   "cell_type": "code",
   "execution_count": 58,
   "id": "a0f76f59",
   "metadata": {},
   "outputs": [
    {
     "data": {
      "text/plain": [
       "True"
      ]
     },
     "execution_count": 58,
     "metadata": {},
     "output_type": "execute_result"
    }
   ],
   "source": [
    "x.isalnum()"
   ]
  },
  {
   "cell_type": "markdown",
   "id": "fa9eb93a",
   "metadata": {},
   "source": [
    "#### Reversing the  string "
   ]
  },
  {
   "cell_type": "code",
   "execution_count": 77,
   "id": "173c351d",
   "metadata": {},
   "outputs": [],
   "source": [
    "n= \"Rohit\""
   ]
  },
  {
   "cell_type": "code",
   "execution_count": 78,
   "id": "1d05ee63",
   "metadata": {},
   "outputs": [
    {
     "name": "stdout",
     "output_type": "stream",
     "text": [
      "t\n",
      "i\n",
      "h\n",
      "o\n",
      "R\n"
     ]
    }
   ],
   "source": [
    "l=len(n)-1\n",
    "while l!=-1:\n",
    "    print(n[l])\n",
    "    l=l-1      "
   ]
  },
  {
   "cell_type": "code",
   "execution_count": 81,
   "id": "0879da97",
   "metadata": {},
   "outputs": [
    {
     "name": "stdout",
     "output_type": "stream",
     "text": [
      "tihoR"
     ]
    }
   ],
   "source": [
    "l=len(n)-1\n",
    "while l!=-1:\n",
    "    print(n[l],end=(\"\"))\n",
    "    l=l-1"
   ]
  },
  {
   "cell_type": "code",
   "execution_count": null,
   "id": "131b5748",
   "metadata": {},
   "outputs": [],
   "source": []
  },
  {
   "cell_type": "code",
   "execution_count": 82,
   "id": "5d75a210",
   "metadata": {},
   "outputs": [
    {
     "data": {
      "text/plain": [
       "'tihoR'"
      ]
     },
     "execution_count": 82,
     "metadata": {},
     "output_type": "execute_result"
    }
   ],
   "source": [
    "n[::-1]"
   ]
  },
  {
   "cell_type": "markdown",
   "id": "b671a543",
   "metadata": {},
   "source": [
    "#### Printing the all the vowels in the string"
   ]
  },
  {
   "cell_type": "code",
   "execution_count": 92,
   "id": "0db98a6f",
   "metadata": {},
   "outputs": [
    {
     "name": "stdout",
     "output_type": "stream",
     "text": [
      "o i a u a e "
     ]
    }
   ],
   "source": [
    "name= \"Rohit Raju Kamble\"\n",
    "vowels=\"AEIOUaeiou\"\n",
    "for i in name:\n",
    "    if i in vowels:\n",
    "        print(i,end=(\" \"))"
   ]
  },
  {
   "cell_type": "code",
   "execution_count": 93,
   "id": "dc4ad796",
   "metadata": {},
   "outputs": [],
   "source": [
    "def vowels(string):\n",
    "    vowels=\"AEIOUaeiou\"\n",
    "    for i in string:\n",
    "        if i in vowels:\n",
    "            print(i,end=\" \")"
   ]
  },
  {
   "cell_type": "code",
   "execution_count": 94,
   "id": "085f8af9",
   "metadata": {},
   "outputs": [
    {
     "name": "stdout",
     "output_type": "stream",
     "text": [
      "u o u "
     ]
    }
   ],
   "source": [
    "vowels(\"fuck you\")"
   ]
  },
  {
   "cell_type": "markdown",
   "id": "20f1d925",
   "metadata": {},
   "source": [
    "#### spliting the name into different columns"
   ]
  },
  {
   "cell_type": "code",
   "execution_count": 95,
   "id": "08dc33ea",
   "metadata": {},
   "outputs": [],
   "source": [
    "import pandas as pd"
   ]
  },
  {
   "cell_type": "code",
   "execution_count": 100,
   "id": "c37a19a2",
   "metadata": {},
   "outputs": [
    {
     "data": {
      "text/html": [
       "<div>\n",
       "<style scoped>\n",
       "    .dataframe tbody tr th:only-of-type {\n",
       "        vertical-align: middle;\n",
       "    }\n",
       "\n",
       "    .dataframe tbody tr th {\n",
       "        vertical-align: top;\n",
       "    }\n",
       "\n",
       "    .dataframe thead th {\n",
       "        text-align: right;\n",
       "    }\n",
       "</style>\n",
       "<table border=\"1\" class=\"dataframe\">\n",
       "  <thead>\n",
       "    <tr style=\"text-align: right;\">\n",
       "      <th></th>\n",
       "      <th>fullname</th>\n",
       "    </tr>\n",
       "  </thead>\n",
       "  <tbody>\n",
       "    <tr>\n",
       "      <th>0</th>\n",
       "      <td>Rohit Raju Kamble</td>\n",
       "    </tr>\n",
       "  </tbody>\n",
       "</table>\n",
       "</div>"
      ],
      "text/plain": [
       "            fullname\n",
       "0  Rohit Raju Kamble"
      ]
     },
     "execution_count": 100,
     "metadata": {},
     "output_type": "execute_result"
    }
   ],
   "source": [
    "df= pd.DataFrame({\"fullname\":[\"Rohit Raju Kamble\"]})\n",
    "df"
   ]
  },
  {
   "cell_type": "code",
   "execution_count": 134,
   "id": "8f397372",
   "metadata": {},
   "outputs": [
    {
     "data": {
      "text/plain": [
       "['Rohit', 'Raju', 'Kamble']"
      ]
     },
     "execution_count": 134,
     "metadata": {},
     "output_type": "execute_result"
    }
   ],
   "source": [
    "df.values[0][0].split(\" \")"
   ]
  },
  {
   "cell_type": "code",
   "execution_count": 126,
   "id": "e6092605",
   "metadata": {},
   "outputs": [
    {
     "data": {
      "text/plain": [
       "['Rohit', 'Raju', 'Kamble']"
      ]
     },
     "execution_count": 126,
     "metadata": {},
     "output_type": "execute_result"
    }
   ],
   "source": [
    "df.fullname.array[0].split(\" \")"
   ]
  },
  {
   "cell_type": "code",
   "execution_count": 144,
   "id": "af287316",
   "metadata": {},
   "outputs": [
    {
     "data": {
      "text/plain": [
       "dtype('O')"
      ]
     },
     "execution_count": 144,
     "metadata": {},
     "output_type": "execute_result"
    }
   ],
   "source": [
    "df.fullname.dtypes"
   ]
  },
  {
   "cell_type": "code",
   "execution_count": 149,
   "id": "c201e5b9",
   "metadata": {},
   "outputs": [
    {
     "data": {
      "text/plain": [
       "<pandas.core.strings.accessor.StringMethods at 0x2ca2a402be0>"
      ]
     },
     "execution_count": 149,
     "metadata": {},
     "output_type": "execute_result"
    }
   ],
   "source": [
    "#converting object dtype into string\n",
    "df.fullname.str"
   ]
  },
  {
   "cell_type": "code",
   "execution_count": 147,
   "id": "429c9272",
   "metadata": {},
   "outputs": [
    {
     "data": {
      "text/plain": [
       "pandas.core.strings.accessor.StringMethods"
      ]
     },
     "execution_count": 147,
     "metadata": {},
     "output_type": "execute_result"
    }
   ],
   "source": [
    "type(df.fullname.str)"
   ]
  },
  {
   "cell_type": "code",
   "execution_count": 130,
   "id": "024ea53b",
   "metadata": {},
   "outputs": [
    {
     "data": {
      "text/plain": [
       "0    [Rohit, Raju, Kamble]\n",
       "Name: fullname, dtype: object"
      ]
     },
     "execution_count": 130,
     "metadata": {},
     "output_type": "execute_result"
    }
   ],
   "source": [
    "df.fullname.str.split(\" \")"
   ]
  },
  {
   "cell_type": "code",
   "execution_count": 135,
   "id": "451cabcc",
   "metadata": {},
   "outputs": [
    {
     "data": {
      "text/html": [
       "<div>\n",
       "<style scoped>\n",
       "    .dataframe tbody tr th:only-of-type {\n",
       "        vertical-align: middle;\n",
       "    }\n",
       "\n",
       "    .dataframe tbody tr th {\n",
       "        vertical-align: top;\n",
       "    }\n",
       "\n",
       "    .dataframe thead th {\n",
       "        text-align: right;\n",
       "    }\n",
       "</style>\n",
       "<table border=\"1\" class=\"dataframe\">\n",
       "  <thead>\n",
       "    <tr style=\"text-align: right;\">\n",
       "      <th></th>\n",
       "      <th>0</th>\n",
       "      <th>1</th>\n",
       "      <th>2</th>\n",
       "    </tr>\n",
       "  </thead>\n",
       "  <tbody>\n",
       "    <tr>\n",
       "      <th>0</th>\n",
       "      <td>Rohit</td>\n",
       "      <td>Raju</td>\n",
       "      <td>Kamble</td>\n",
       "    </tr>\n",
       "  </tbody>\n",
       "</table>\n",
       "</div>"
      ],
      "text/plain": [
       "       0     1       2\n",
       "0  Rohit  Raju  Kamble"
      ]
     },
     "execution_count": 135,
     "metadata": {},
     "output_type": "execute_result"
    }
   ],
   "source": [
    "df.fullname.str.split(\" \",expand=True)"
   ]
  },
  {
   "cell_type": "code",
   "execution_count": 138,
   "id": "0d25b015",
   "metadata": {},
   "outputs": [
    {
     "data": {
      "text/html": [
       "<div>\n",
       "<style scoped>\n",
       "    .dataframe tbody tr th:only-of-type {\n",
       "        vertical-align: middle;\n",
       "    }\n",
       "\n",
       "    .dataframe tbody tr th {\n",
       "        vertical-align: top;\n",
       "    }\n",
       "\n",
       "    .dataframe thead th {\n",
       "        text-align: right;\n",
       "    }\n",
       "</style>\n",
       "<table border=\"1\" class=\"dataframe\">\n",
       "  <thead>\n",
       "    <tr style=\"text-align: right;\">\n",
       "      <th></th>\n",
       "      <th>fullname</th>\n",
       "      <th>first_name</th>\n",
       "      <th>middle_name</th>\n",
       "      <th>last_name</th>\n",
       "    </tr>\n",
       "  </thead>\n",
       "  <tbody>\n",
       "    <tr>\n",
       "      <th>0</th>\n",
       "      <td>Rohit Raju Kamble</td>\n",
       "      <td>Rohit</td>\n",
       "      <td>Raju</td>\n",
       "      <td>Kamble</td>\n",
       "    </tr>\n",
       "  </tbody>\n",
       "</table>\n",
       "</div>"
      ],
      "text/plain": [
       "            fullname first_name middle_name last_name\n",
       "0  Rohit Raju Kamble      Rohit        Raju    Kamble"
      ]
     },
     "execution_count": 138,
     "metadata": {},
     "output_type": "execute_result"
    }
   ],
   "source": [
    "df[[\"first_name\",\"middle_name\",\"last_name\"]]=df.fullname.str.split(\" \",expand=True)\n",
    "df"
   ]
  },
  {
   "cell_type": "code",
   "execution_count": null,
   "id": "2e77b3fc",
   "metadata": {},
   "outputs": [],
   "source": []
  }
 ],
 "metadata": {
  "kernelspec": {
   "display_name": "Python 3 (ipykernel)",
   "language": "python",
   "name": "python3"
  },
  "language_info": {
   "codemirror_mode": {
    "name": "ipython",
    "version": 3
   },
   "file_extension": ".py",
   "mimetype": "text/x-python",
   "name": "python",
   "nbconvert_exporter": "python",
   "pygments_lexer": "ipython3",
   "version": "3.9.12"
  }
 },
 "nbformat": 4,
 "nbformat_minor": 5
}
